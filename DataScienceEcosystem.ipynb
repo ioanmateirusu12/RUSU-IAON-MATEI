{
 "cells": [
  {
   "cell_type": "markdown",
   "id": "242c43ba-19dc-4a17-b087-b132f396e499",
   "metadata": {},
   "source": [
    "# Data Science Tools and Ecosystem"
   ]
  },
  {
   "cell_type": "markdown",
   "id": "1c8614d5-2d6d-40a6-8c01-7a8331aac134",
   "metadata": {
    "tags": []
   },
   "source": [
    "## In this notebook, Data Science Tools and Ecosystem are summarized."
   ]
  },
  {
   "cell_type": "markdown",
   "id": "65692c20-200c-45f0-aeaa-2df9b980409a",
   "metadata": {},
   "source": [
    "**Objectives:**\n",
    "\n",
    "- List popular languages for Data Science\n",
    "- Describe the data science process\n",
    "- Explore key libraries used in data science\n",
    "- Demonstrate basic data manipulation techniques\n",
    "- Visualize data using common plotting tools\n",
    "\"\"\"\n"
   ]
  },
  {
   "cell_type": "markdown",
   "id": "5d866395-4f87-4210-81c7-d81ad8e8ccc3",
   "metadata": {},
   "source": [
    "### Some of the popular languages that Data Scientists use are:\n",
    "<ol>\n",
    "<li>R</li>\n",
    "<li>Python</li>\n",
    "<li>Java</li>\n",
    "<li>C++</li>\n",
    "<li>Julia</li>    \n",
    "</ol>"
   ]
  },
  {
   "cell_type": "markdown",
   "id": "972811a9-769d-40dc-a840-185bca9d9304",
   "metadata": {
    "tags": []
   },
   "source": [
    "### Some of the commonly used libraries used by Data Scientists include:\n",
    "<ol>\n",
    "<li>Pandas</li>\n",
    "<li>Numpy</li>\n",
    "<li>Matplotlib</li>\n",
    "<li>Tensor Flow</li>\n",
    "</ol>"
   ]
  },
  {
   "cell_type": "markdown",
   "id": "928b6a6e-0656-440a-b34a-daa7be9dae75",
   "metadata": {},
   "source": [
    "### Below are a few examples of evaluating arithmetic expressions in Python"
   ]
  },
  {
   "cell_type": "code",
   "execution_count": 37,
   "id": "f1ed7a0c-c7bf-4e53-85ef-449ac85b1600",
   "metadata": {
    "tags": []
   },
   "outputs": [
    {
     "name": "stdout",
     "output_type": "stream",
     "text": [
      "7\n"
     ]
    }
   ],
   "source": [
    "x=3\n",
    "y=4\n",
    "print(x+y)"
   ]
  },
  {
   "cell_type": "code",
   "execution_count": 39,
   "id": "b8674ad8-db97-42f6-bb7f-1631cb7fb28d",
   "metadata": {
    "tags": []
   },
   "outputs": [
    {
     "name": "stdout",
     "output_type": "stream",
     "text": [
      "17\n"
     ]
    }
   ],
   "source": [
    "print((3*4)+5)\n",
    "# This a simple arithmetic expression to mutiply then add integers"
   ]
  },
  {
   "cell_type": "code",
   "execution_count": 41,
   "id": "ca94093b-2bf4-434c-bae9-81a76051a492",
   "metadata": {
    "tags": []
   },
   "outputs": [
    {
     "name": "stdout",
     "output_type": "stream",
     "text": [
      "3.3333333333333335\n"
     ]
    }
   ],
   "source": [
    "print (200/60)\n",
    "#  This will convert 200 minutes to hours by diving by 60"
   ]
  },
  {
   "cell_type": "markdown",
   "id": "844a7aeb-764e-47c0-86a0-ae8d3ec3d3ed",
   "metadata": {},
   "source": [
    "## Author"
   ]
  },
  {
   "cell_type": "markdown",
   "id": "bab638f2-58d5-48ce-9cd5-0ad92e3ead7b",
   "metadata": {},
   "source": [
    "Rusu Ioan Matei"
   ]
  },
  {
   "cell_type": "code",
   "execution_count": null,
   "id": "13d6e078-65ef-4d9f-af68-ac7928bd949d",
   "metadata": {},
   "outputs": [],
   "source": []
  }
 ],
 "metadata": {
  "kernelspec": {
   "display_name": "Python 3 (ipykernel)",
   "language": "python",
   "name": "python3"
  },
  "language_info": {
   "codemirror_mode": {
    "name": "ipython",
    "version": 3
   },
   "file_extension": ".py",
   "mimetype": "text/x-python",
   "name": "python",
   "nbconvert_exporter": "python",
   "pygments_lexer": "ipython3",
   "version": "3.11.7"
  }
 },
 "nbformat": 4,
 "nbformat_minor": 5
}
